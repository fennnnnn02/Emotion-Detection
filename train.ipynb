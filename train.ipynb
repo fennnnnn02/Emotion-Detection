{
 "cells": [
  {
   "cell_type": "code",
   "execution_count": 5,
   "metadata": {},
   "outputs": [],
   "source": [
    "import cv2\n",
    "from keras.models import Sequential\n",
    "from keras.layers import Conv2D, MaxPooling2D, Dropout, Flatten, Dense\n",
    "from keras.preprocessing.image import ImageDataGenerator"
   ]
  },
  {
   "cell_type": "code",
   "execution_count": 6,
   "metadata": {},
   "outputs": [
    {
     "name": "stdout",
     "output_type": "stream",
     "text": [
      "<class 'tensorflow.python.keras.preprocessing.image.ImageDataGenerator'>\n"
     ]
    }
   ],
   "source": [
    "train_data_gen = ImageDataGenerator(rescale=1.0/255.0)\n",
    "validation_data_gen = ImageDataGenerator(rescale=1.0/255.0)\n",
    "print(type(train_data_gen))"
   ]
  },
  {
   "cell_type": "code",
   "execution_count": 7,
   "metadata": {},
   "outputs": [
    {
     "name": "stdout",
     "output_type": "stream",
     "text": [
      "Found 28709 images belonging to 7 classes.\n",
      "Found 7178 images belonging to 7 classes.\n"
     ]
    }
   ],
   "source": [
    "train_generator = train_data_gen.flow_from_directory(\n",
    "    'data/train',\n",
    "    target_size=(48,48),\n",
    "    batch_size=64,\n",
    "    color_mode=\"grayscale\",\n",
    "    class_mode=\"categorical\"\n",
    ")\n",
    "\n",
    "validation_generator = validation_data_gen.flow_from_directory(\n",
    "    'data/test',\n",
    "    target_size=(48,48),\n",
    "    batch_size=64,\n",
    "    color_mode=\"grayscale\",\n",
    "    class_mode=\"categorical\"\n",
    ")"
   ]
  },
  {
   "cell_type": "code",
   "execution_count": 8,
   "metadata": {},
   "outputs": [
    {
     "name": "stdout",
     "output_type": "stream",
     "text": [
      "WARNING:tensorflow:From <ipython-input-8-d829f9317e92>:22: Model.fit_generator (from tensorflow.python.keras.engine.training) is deprecated and will be removed in a future version.\n",
      "Instructions for updating:\n",
      "Please use Model.fit, which supports generators.\n",
      "Epoch 1/50\n",
      "448/448 [==============================] - 65s 146ms/step - loss: 1.8059 - accuracy: 0.2515 - val_loss: 1.7214 - val_accuracy: 0.2944\n",
      "Epoch 2/50\n",
      "448/448 [==============================] - 37s 82ms/step - loss: 1.6023 - accuracy: 0.3650 - val_loss: 1.4187 - val_accuracy: 0.4492\n",
      "Epoch 3/50\n",
      "448/448 [==============================] - 34s 76ms/step - loss: 1.4173 - accuracy: 0.4493 - val_loss: 1.3145 - val_accuracy: 0.4964\n",
      "Epoch 4/50\n",
      "448/448 [==============================] - 34s 75ms/step - loss: 1.3351 - accuracy: 0.4886 - val_loss: 1.2976 - val_accuracy: 0.5045\n",
      "Epoch 5/50\n",
      "448/448 [==============================] - 35s 79ms/step - loss: 1.2791 - accuracy: 0.5094 - val_loss: 1.2288 - val_accuracy: 0.5271\n",
      "Epoch 6/50\n",
      "448/448 [==============================] - 34s 75ms/step - loss: 1.2369 - accuracy: 0.5280 - val_loss: 1.1909 - val_accuracy: 0.5384\n",
      "Epoch 7/50\n",
      "448/448 [==============================] - 35s 78ms/step - loss: 1.1999 - accuracy: 0.5423 - val_loss: 1.1765 - val_accuracy: 0.5505\n",
      "Epoch 8/50\n",
      "448/448 [==============================] - 35s 79ms/step - loss: 1.1667 - accuracy: 0.5551 - val_loss: 1.1859 - val_accuracy: 0.5453\n",
      "Epoch 9/50\n",
      "448/448 [==============================] - 35s 77ms/step - loss: 1.1545 - accuracy: 0.5603 - val_loss: 1.1413 - val_accuracy: 0.5603\n",
      "Epoch 10/50\n",
      "448/448 [==============================] - 33s 74ms/step - loss: 1.1254 - accuracy: 0.5714 - val_loss: 1.1343 - val_accuracy: 0.5647\n",
      "Epoch 11/50\n",
      "448/448 [==============================] - 33s 74ms/step - loss: 1.1128 - accuracy: 0.5792 - val_loss: 1.1294 - val_accuracy: 0.5703\n",
      "Epoch 12/50\n",
      "448/448 [==============================] - 33s 74ms/step - loss: 1.0920 - accuracy: 0.5863 - val_loss: 1.1153 - val_accuracy: 0.5758\n",
      "Epoch 13/50\n",
      "448/448 [==============================] - 34s 75ms/step - loss: 1.0748 - accuracy: 0.5912 - val_loss: 1.1086 - val_accuracy: 0.5769\n",
      "Epoch 14/50\n",
      "448/448 [==============================] - 36s 81ms/step - loss: 1.0604 - accuracy: 0.5961 - val_loss: 1.1055 - val_accuracy: 0.5746\n",
      "Epoch 15/50\n",
      "448/448 [==============================] - 36s 81ms/step - loss: 1.0440 - accuracy: 0.6075 - val_loss: 1.1095 - val_accuracy: 0.5774\n",
      "Epoch 16/50\n",
      "448/448 [==============================] - 36s 80ms/step - loss: 1.0253 - accuracy: 0.6125 - val_loss: 1.1083 - val_accuracy: 0.5749\n",
      "Epoch 17/50\n",
      "448/448 [==============================] - 36s 80ms/step - loss: 1.0190 - accuracy: 0.6133 - val_loss: 1.0999 - val_accuracy: 0.5799\n",
      "Epoch 18/50\n",
      "448/448 [==============================] - 35s 79ms/step - loss: 1.0002 - accuracy: 0.6221 - val_loss: 1.1196 - val_accuracy: 0.5766\n",
      "Epoch 19/50\n",
      "448/448 [==============================] - 35s 79ms/step - loss: 0.9958 - accuracy: 0.6202 - val_loss: 1.0887 - val_accuracy: 0.5871\n",
      "Epoch 20/50\n",
      "448/448 [==============================] - 37s 82ms/step - loss: 0.9774 - accuracy: 0.6313 - val_loss: 1.1013 - val_accuracy: 0.5836\n",
      "Epoch 21/50\n",
      "448/448 [==============================] - 36s 80ms/step - loss: 0.9636 - accuracy: 0.6333 - val_loss: 1.1024 - val_accuracy: 0.5914\n",
      "Epoch 22/50\n",
      "448/448 [==============================] - 35s 79ms/step - loss: 0.9596 - accuracy: 0.6377 - val_loss: 1.0792 - val_accuracy: 0.5968\n",
      "Epoch 23/50\n",
      "448/448 [==============================] - 35s 78ms/step - loss: 0.9518 - accuracy: 0.6384 - val_loss: 1.1268 - val_accuracy: 0.5841\n",
      "Epoch 24/50\n",
      "448/448 [==============================] - 35s 78ms/step - loss: 0.9431 - accuracy: 0.6447 - val_loss: 1.0898 - val_accuracy: 0.5896\n",
      "Epoch 25/50\n",
      "448/448 [==============================] - 35s 78ms/step - loss: 0.9295 - accuracy: 0.6496 - val_loss: 1.0922 - val_accuracy: 0.5943\n",
      "Epoch 26/50\n",
      "448/448 [==============================] - 35s 78ms/step - loss: 0.9152 - accuracy: 0.6551 - val_loss: 1.0911 - val_accuracy: 0.5929\n",
      "Epoch 27/50\n",
      "448/448 [==============================] - 35s 78ms/step - loss: 0.9117 - accuracy: 0.6570 - val_loss: 1.0866 - val_accuracy: 0.5940\n",
      "Epoch 28/50\n",
      "448/448 [==============================] - 35s 78ms/step - loss: 0.8963 - accuracy: 0.6610 - val_loss: 1.1024 - val_accuracy: 0.5912\n",
      "Epoch 29/50\n",
      "448/448 [==============================] - 35s 79ms/step - loss: 0.8921 - accuracy: 0.6624 - val_loss: 1.1014 - val_accuracy: 0.5946\n",
      "Epoch 30/50\n",
      "448/448 [==============================] - 35s 79ms/step - loss: 0.8901 - accuracy: 0.6630 - val_loss: 1.1003 - val_accuracy: 0.5915\n",
      "Epoch 31/50\n",
      "448/448 [==============================] - 35s 78ms/step - loss: 0.8752 - accuracy: 0.6694 - val_loss: 1.0969 - val_accuracy: 0.5936\n",
      "Epoch 32/50\n",
      "448/448 [==============================] - 35s 78ms/step - loss: 0.8680 - accuracy: 0.6710 - val_loss: 1.1040 - val_accuracy: 0.5886\n",
      "Epoch 33/50\n",
      "448/448 [==============================] - 36s 79ms/step - loss: 0.8578 - accuracy: 0.6803 - val_loss: 1.1160 - val_accuracy: 0.5999\n",
      "Epoch 34/50\n",
      "448/448 [==============================] - 35s 77ms/step - loss: 0.8574 - accuracy: 0.6777 - val_loss: 1.1088 - val_accuracy: 0.5958\n",
      "Epoch 35/50\n",
      "448/448 [==============================] - 36s 79ms/step - loss: 0.8477 - accuracy: 0.6797 - val_loss: 1.0960 - val_accuracy: 0.6013\n",
      "Epoch 36/50\n",
      "448/448 [==============================] - 35s 79ms/step - loss: 0.8324 - accuracy: 0.6846 - val_loss: 1.1052 - val_accuracy: 0.6013\n",
      "Epoch 37/50\n",
      "448/448 [==============================] - 35s 79ms/step - loss: 0.8379 - accuracy: 0.6849 - val_loss: 1.1066 - val_accuracy: 0.6009\n",
      "Epoch 38/50\n",
      "448/448 [==============================] - 35s 78ms/step - loss: 0.8318 - accuracy: 0.6892 - val_loss: 1.1182 - val_accuracy: 0.5891\n",
      "Epoch 39/50\n",
      "448/448 [==============================] - 35s 78ms/step - loss: 0.8213 - accuracy: 0.6922 - val_loss: 1.1064 - val_accuracy: 0.5974\n",
      "Epoch 40/50\n",
      "448/448 [==============================] - 35s 79ms/step - loss: 0.8167 - accuracy: 0.6939 - val_loss: 1.0993 - val_accuracy: 0.6002\n",
      "Epoch 41/50\n",
      "448/448 [==============================] - 35s 79ms/step - loss: 0.8035 - accuracy: 0.6967 - val_loss: 1.1110 - val_accuracy: 0.5992\n",
      "Epoch 42/50\n",
      "448/448 [==============================] - 35s 78ms/step - loss: 0.8094 - accuracy: 0.6956 - val_loss: 1.1273 - val_accuracy: 0.5925\n",
      "Epoch 43/50\n",
      "448/448 [==============================] - 35s 78ms/step - loss: 0.7999 - accuracy: 0.6992 - val_loss: 1.1309 - val_accuracy: 0.5963\n",
      "Epoch 44/50\n",
      "448/448 [==============================] - 35s 78ms/step - loss: 0.7942 - accuracy: 0.7025 - val_loss: 1.1113 - val_accuracy: 0.6010\n",
      "Epoch 45/50\n",
      "448/448 [==============================] - 36s 80ms/step - loss: 0.7839 - accuracy: 0.7053 - val_loss: 1.1245 - val_accuracy: 0.5989\n",
      "Epoch 46/50\n",
      "448/448 [==============================] - 35s 79ms/step - loss: 0.7841 - accuracy: 0.7062 - val_loss: 1.1268 - val_accuracy: 0.5992\n",
      "Epoch 47/50\n",
      "448/448 [==============================] - 36s 80ms/step - loss: 0.7755 - accuracy: 0.7099 - val_loss: 1.1228 - val_accuracy: 0.5936\n",
      "Epoch 48/50\n",
      "448/448 [==============================] - 36s 80ms/step - loss: 0.7716 - accuracy: 0.7120 - val_loss: 1.1314 - val_accuracy: 0.6003\n",
      "Epoch 49/50\n",
      "448/448 [==============================] - 35s 79ms/step - loss: 0.7765 - accuracy: 0.7086 - val_loss: 1.1276 - val_accuracy: 0.5982\n",
      "Epoch 50/50\n",
      "448/448 [==============================] - 35s 79ms/step - loss: 0.7664 - accuracy: 0.7139 - val_loss: 1.1228 - val_accuracy: 0.6014\n",
      "<bound method Model.summary of <tensorflow.python.keras.engine.sequential.Sequential object at 0x0000024CFEFFE520>>\n"
     ]
    }
   ],
   "source": [
    "model = Sequential([\n",
    "    Conv2D(32,(3,3),activation='relu',input_shape=(48,48,1)),\n",
    "    MaxPooling2D((2,2)),\n",
    "    Conv2D(64,(3,3),activation='relu'),\n",
    "    MaxPooling2D((2,2)),\n",
    "    Dropout(0.3),\n",
    "\n",
    "    Conv2D(128,(3,3),activation='relu'),\n",
    "    MaxPooling2D((2,2)),\n",
    "    Conv2D(128,(3,3),activation='relu'),\n",
    "    MaxPooling2D((2,2)),\n",
    "    Dropout(0.3),\n",
    "\n",
    "    Flatten(),\n",
    "    Dense(512,activation='relu'),\n",
    "    Dropout(0.2),\n",
    "    Dense(7,activation='softmax')\n",
    "])\n",
    "\n",
    "model.compile(loss='categorical_crossentropy', optimizer='adam',metrics=['accuracy'])\n",
    "\n",
    "em_model = model.fit_generator(\n",
    "    train_generator,\n",
    "    steps_per_epoch = 28709//64,\n",
    "    epochs = 50,\n",
    "    validation_data = validation_generator,\n",
    "    validation_steps = 7178//64\n",
    ")\n",
    "\n",
    "print(model.summary)"
   ]
  },
  {
   "cell_type": "code",
   "execution_count": 11,
   "metadata": {},
   "outputs": [],
   "source": [
    "model_json = model.to_json()\n",
    "with open(\"emotion_model.json\",\"w\") as json_file:\n",
    "    json_file.write(model_json)\n",
    "\n",
    "model.save_weights('emotion_model.h5')"
   ]
  }
 ],
 "metadata": {
  "kernelspec": {
   "display_name": "Python 3.8.8 ('base')",
   "language": "python",
   "name": "python3"
  },
  "language_info": {
   "codemirror_mode": {
    "name": "ipython",
    "version": 3
   },
   "file_extension": ".py",
   "mimetype": "text/x-python",
   "name": "python",
   "nbconvert_exporter": "python",
   "pygments_lexer": "ipython3",
   "version": "3.8.8"
  },
  "orig_nbformat": 4,
  "vscode": {
   "interpreter": {
    "hash": "ad2bdc8ecc057115af97d19610ffacc2b4e99fae6737bb82f5d7fb13d2f2c186"
   }
  }
 },
 "nbformat": 4,
 "nbformat_minor": 2
}
